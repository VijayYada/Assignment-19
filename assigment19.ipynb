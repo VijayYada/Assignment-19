{
  "nbformat": 4,
  "nbformat_minor": 0,
  "metadata": {
    "colab": {
      "name": "assigment19.ipynb",
      "version": "0.3.2",
      "views": {},
      "default_view": {},
      "provenance": []
    },
    "kernelspec": {
      "name": "python3",
      "display_name": "Python 3"
    }
  },
  "cells": [
    {
      "metadata": {
        "id": "CDe6idLDLRlG",
        "colab_type": "code",
        "colab": {
          "autoexec": {
            "startup": false,
            "wait_interval": 0
          }
        }
      },
      "cell_type": "code",
      "source": [
        "\n",
        "Ques 1. Create a numpy array with 10 elements of the shape(10,1) using np.random and find out the mean of the elements using basic numpy functions"
      ],
      "execution_count": 0,
      "outputs": []
    },
    {
      "metadata": {
        "id": "n9rAJS6vMwk9",
        "colab_type": "code",
        "colab": {
          "autoexec": {
            "startup": false,
            "wait_interval": 0
          },
          "base_uri": "https://localhost:8080/",
          "height": 204
        },
        "outputId": "3dddd09a-85c9-478a-be46-680d6baebb4f",
        "executionInfo": {
          "status": "ok",
          "timestamp": 1530806903556,
          "user_tz": -330,
          "elapsed": 1400,
          "user": {
            "displayName": "Rishabh Rana",
            "photoUrl": "https://lh3.googleusercontent.com/a/default-user=s128",
            "userId": "116621140639593440878"
          }
        }
      },
      "cell_type": "code",
      "source": [
        "import numpy as np\n",
        "import sys\n",
        "import time\n",
        "a=np.random.random((10,1))\n",
        "print(a)\n",
        "print(\"Mean is : \",a.mean())"
      ],
      "execution_count": 1,
      "outputs": [
        {
          "output_type": "stream",
          "text": [
            "[[0.9858548 ]\n",
            " [0.30563249]\n",
            " [0.91987466]\n",
            " [0.59886478]\n",
            " [0.84332703]\n",
            " [0.6839197 ]\n",
            " [0.17903303]\n",
            " [0.60165051]\n",
            " [0.7757577 ]\n",
            " [0.99599814]]\n",
            "Mean is :  0.6889912842729256\n"
          ],
          "name": "stdout"
        }
      ]
    },
    {
      "metadata": {
        "id": "NCTllWeCM7jr",
        "colab_type": "code",
        "colab": {
          "autoexec": {
            "startup": false,
            "wait_interval": 0
          }
        }
      },
      "cell_type": "code",
      "source": [
        "\n",
        "Ques 2. Create a numpy array with 20 elements of the shape(20,1) using np.random find the variance and standard deviation of the elements."
      ],
      "execution_count": 0,
      "outputs": []
    },
    {
      "metadata": {
        "id": "hI6WRk7aM--C",
        "colab_type": "code",
        "colab": {
          "autoexec": {
            "startup": false,
            "wait_interval": 0
          },
          "base_uri": "https://localhost:8080/",
          "height": 391
        },
        "outputId": "895cde9c-7ee2-4096-b6b7-27c108962c6b",
        "executionInfo": {
          "status": "ok",
          "timestamp": 1530806945814,
          "user_tz": -330,
          "elapsed": 1394,
          "user": {
            "displayName": "Rishabh Rana",
            "photoUrl": "https://lh3.googleusercontent.com/a/default-user=s128",
            "userId": "116621140639593440878"
          }
        }
      },
      "cell_type": "code",
      "source": [
        "import numpy as np\n",
        "import sys\n",
        "import time\n",
        "a=np.random.randint(0,30,(20,1))\n",
        "print(a)\n",
        "print(\"Variance of array is : \",a.var())\n",
        "print(\"Standard Deviation is : \",a.std())"
      ],
      "execution_count": 2,
      "outputs": [
        {
          "output_type": "stream",
          "text": [
            "[[ 5]\n",
            " [17]\n",
            " [13]\n",
            " [ 4]\n",
            " [17]\n",
            " [ 6]\n",
            " [10]\n",
            " [ 9]\n",
            " [15]\n",
            " [17]\n",
            " [21]\n",
            " [18]\n",
            " [19]\n",
            " [ 2]\n",
            " [22]\n",
            " [ 8]\n",
            " [28]\n",
            " [28]\n",
            " [14]\n",
            " [27]]\n",
            "Variance of array is :  59.5\n",
            "Standard Deviation is :  7.713624310270756\n"
          ],
          "name": "stdout"
        }
      ]
    },
    {
      "metadata": {
        "id": "l8gIqJfFNI0S",
        "colab_type": "code",
        "colab": {
          "autoexec": {
            "startup": false,
            "wait_interval": 0
          }
        }
      },
      "cell_type": "code",
      "source": [
        "\n",
        "Ques 3. Create a numpy array A of shape(10,20) and B of shape (20,25) using np.random. Print the matrix which is the matrix multiplication of A and B. The shape of the new matrix should be (10,25). Using basic numpy math functions only find the sum of all the elements of the new matrix.¶"
      ],
      "execution_count": 0,
      "outputs": []
    },
    {
      "metadata": {
        "id": "QCpXxoGONK88",
        "colab_type": "code",
        "colab": {
          "autoexec": {
            "startup": false,
            "wait_interval": 0
          },
          "base_uri": "https://localhost:8080/",
          "height": 1564
        },
        "outputId": "31344278-ba58-48e5-ca3b-34d74e7b2359",
        "executionInfo": {
          "status": "ok",
          "timestamp": 1530806993428,
          "user_tz": -330,
          "elapsed": 3865,
          "user": {
            "displayName": "Rishabh Rana",
            "photoUrl": "https://lh3.googleusercontent.com/a/default-user=s128",
            "userId": "116621140639593440878"
          }
        }
      },
      "cell_type": "code",
      "source": [
        "import numpy as np\n",
        "import sys\n",
        "import time\n",
        "a=np.random.randint(0,50,(10,20))\n",
        "print(\"\\nMatrix A is :\\n\",a)\n",
        "b=np.random.randint(0,50,(20,25))\n",
        "print(\"\\n\\nMatrix B is :\\n\",b)\n",
        "c=np.matmul(a,b)\n",
        "print(\"\\n\\nMultiplication of Two Matrices is: \\n\",c)\n",
        "print(\"\\n\\n Sum of elements of new matrix is: \",c.sum())"
      ],
      "execution_count": 3,
      "outputs": [
        {
          "output_type": "stream",
          "text": [
            "\n",
            "Matrix A is :\n",
            " [[ 8  9 31 15 35  9 38 35 21 20 23  1 47  1  4 47 42 29 15  4]\n",
            " [25 16 15 23 46 49 36 31 45 37  8 28 28 36  4 30 23 31 43 42]\n",
            " [16 16 23 24  0 15 39 10 20 36 46 12 19 36 23 35 11 34 45 34]\n",
            " [ 1 27 35 34  0 25 28  3  2  3 31 47 43 18 36 16 48 26  0 13]\n",
            " [48  9 24 39 26 22 47 30 26 46 48 21 13 27 14 36 27 21 49 30]\n",
            " [36 29 45 24 35 23  5 27 48 49 43 31  2 42 41  1  2 18 18 37]\n",
            " [ 2 41 10  1 18  0 49 38  9 22  7  7 19 27  4 46 39 11 23 15]\n",
            " [ 6 36  7 37 27 20  9 49 48 49 32 32 15 11 10 20 11 21 28 41]\n",
            " [17  7 22 49 23 49  2 29 30  1 42  4 23 32 28 48 10  3 10 20]\n",
            " [ 1  2 23  4  4 32 10 14  3 20  0 44 39  5 48  5 33 16 40 47]]\n",
            "\n",
            "\n",
            "Matrix B is :\n",
            " [[46  1 30  0  2  1 48 23 22 35 25 12 31 43 33 19  6  5 25 13 33 41 15 29\n",
            "  36]\n",
            " [ 1  0 39 11  8 23 26 21 16 35 26 23 28 19 12 38 34 30 20 27 18 48  8 24\n",
            "  17]\n",
            " [25 30 31 26 11 12 37 20  8 17 22 37  1 30 20 21 11 10  9 13 42 28 25 36\n",
            "  49]\n",
            " [24 49 17 14 34 23 22 43 18 49 18 48 19 16 10 41 29 10  8 41 16 25 25 44\n",
            "  32]\n",
            " [23  4 48 43 22 37 25  9 13 12 33 42 13  9 30 27  8 10 46 12 26  2 39 36\n",
            "  42]\n",
            " [36 33 16  5 22 38  7  8 18 32 32 46  1 35 38 42 26  0  5 12 45 35 40 38\n",
            "  23]\n",
            " [42 20 27 43 47 42 49 24  3 25 32  9 49  1  9 33  7 14 43 37 40 36 38  8\n",
            "  44]\n",
            " [ 8 30 38 40  4 45 15 12 21 19  8 48 24 27 34  0 48 13 16 26 21 13 31 44\n",
            "  12]\n",
            " [ 6 47 14 29 16 38 23 31 25 22 14 34 23 36 28  3 31 15 13 34 31 30  1  7\n",
            "  13]\n",
            " [32  2 26 34 37 26 27 48 45 27 40 19 11 19 19 27 28  3  5  4 38 19  6 20\n",
            "  17]\n",
            " [28 22 29 37 23 41 38  7 45  8  1 37 46 12  8 32 35 34 17 42 21 12 24 16\n",
            "   0]\n",
            " [ 6 34 39  2 39 24 39 12  5 42 13  0  8 36 28 39 24 38 46 15 18 21 36 37\n",
            "  23]\n",
            " [44 27 21 28 13 21 40 14  8 30 18 24 47  0 24 27 30 29 35  6 49 33 41 12\n",
            "   4]\n",
            " [49 39  3 45 49 33 13 22 18  6 10 14 40 27 35 39 37  8  6 36 37 26 35 16\n",
            "   4]\n",
            " [46 16 25 49 16  1 28 46 29 15 40 41 47 12  6 18 36 35  7 17 23 29  1 48\n",
            "   5]\n",
            " [40 40 39  7 41 49 39 12 37  2 34 37 25 29 39 14  0 24 16  6  8 14 27 15\n",
            "   7]\n",
            " [39 16 40 42 18 22 48 31 30 13 33 34 21  5 17 35 49 13  8 17 49 34 23 46\n",
            "  15]\n",
            " [ 3 19 11 16 13 10 49 33 17 24 14 26 44 41  8 28 27 30 28 43 36  5 18 21\n",
            "   1]\n",
            " [32 24 39 46 15  5 43  8 42 18 47 22 47 10 37 38 35 10 49 38 38 48 29 22\n",
            "  28]\n",
            " [22 19 30 26  7 17 25 42 28 44  3 20 21  2  5 11 13 37 23 20 32 20 13 46\n",
            "  12]]\n",
            "\n",
            "\n",
            "Multiplication of Two Matrices is: \n",
            " [[12407 10398 13134 12749  9514 12709 15376  9116  9513  8666 10578 13658\n",
            "  12310  7741  9787 10649 10639  7655  9844  9263 14058 10242 11535 11154\n",
            "   8513]\n",
            " [16191 14581 16452 16156 13574 16240 18221 13377 13166 14496 14137 16678\n",
            "  15308 12416 14544 15732 14622  9647 13692 13517 19333 15268 15105 16191\n",
            "  12086]\n",
            " [14570 12122 12952 14276 11977 12450 16593 11973 12583 11082 11352 13276\n",
            "  15502  9518 10142 13510 12462  9489 10434 12792 15414 12919 11326 12301\n",
            "   8519]\n",
            " [12428 11160 11931 11193 10292 10492 15012 10385  8308 10935  9544 12298\n",
            "  12076  8041  7969 13346 12119  9735  8791  9900 13947 11742 11171 13172\n",
            "   7737]\n",
            " [17778 14078 17208 16875 14080 15719 20173 13984 14977 14046 14361 16782\n",
            "  17041 12069 13530 16094 14704  9934 13251 14600 18641 15638 14461 16244\n",
            "  12574]\n",
            " [14285 12622 14947 15575 11593 13455 16121 14029 13150 13374 11826 15965\n",
            "  13852 12635 11882 13952 14496  9986 10353 12961 16724 13795 11292 16176\n",
            "  10859]\n",
            " [10982  8542 12193 11935  9534 11777 13107  8394  8741  7758  9827 10507\n",
            "  11623  6513  8859 10062 10085  7048  8862  8854 11905 10442  9863  9795\n",
            "   7257]\n",
            " [11179 12413 14644 13707 10745 14246 14768 12412 12561 13162 10753 15189\n",
            "  12710 10489 11065 12533 14145  9677 10599 12231 14524 12231 10980 14475\n",
            "   8882]\n",
            " [13483 13243 11736 11521 10223 13214 12359  9619 10724  9911  9538 15716\n",
            "  11592  9667 10814 11501 11454  7788  7376 10378 12766 10901 11327 13156\n",
            "   7774]\n",
            " [11435  9157 11368 11261  7685  7681 12815  9747  8694 10265  9833 10502\n",
            "  10415  6622  8153 10611 10901  8493  9029  7507 13439 10886  9438 13009\n",
            "   6874]]\n",
            "\n",
            "\n",
            " Sum of elements of new matrix is:  3018329\n"
          ],
          "name": "stdout"
        }
      ]
    },
    {
      "metadata": {
        "id": "5JyZh69tNPoF",
        "colab_type": "code",
        "colab": {
          "autoexec": {
            "startup": false,
            "wait_interval": 0
          }
        }
      },
      "cell_type": "code",
      "source": [
        "\n",
        "Ques4. Create a numpy array A of shape(10,1).Using the basic operations of the numpy array generate an array of shape(10,1) such that each element is the following function applied on each element of A.¶"
      ],
      "execution_count": 0,
      "outputs": []
    },
    {
      "metadata": {
        "id": "Ellz5HC9NXuj",
        "colab_type": "code",
        "colab": {
          "autoexec": {
            "startup": false,
            "wait_interval": 0
          },
          "base_uri": "https://localhost:8080/",
          "height": 54
        },
        "outputId": "b4e5a73e-136d-4c8b-fd56-ee0efd7205e0",
        "executionInfo": {
          "status": "ok",
          "timestamp": 1530807135968,
          "user_tz": -330,
          "elapsed": 4559,
          "user": {
            "displayName": "Rishabh Rana",
            "photoUrl": "https://lh3.googleusercontent.com/a/default-user=s128",
            "userId": "116621140639593440878"
          }
        }
      },
      "cell_type": "code",
      "source": [
        "import numpy as np\n",
        "import math\n",
        "\n",
        "A=np.random.rand(10,1)\n",
        "#print(A)\n",
        "l=[]\n",
        "for x in A:\n",
        "  for y in x:\n",
        "    B=1 / (1 + math.exp(-y))\n",
        "    l.append(B)\n",
        "print(l)"
      ],
      "execution_count": 5,
      "outputs": [
        {
          "output_type": "stream",
          "text": [
            "[0.7261178520801612, 0.536222040352943, 0.6211776716735549, 0.5629288738691429, 0.626117043231433, 0.5964068835515094, 0.562813122822367, 0.6540401478942587, 0.7113181164274572, 0.6831320878008142]\n"
          ],
          "name": "stdout"
        }
      ]
    }
  ]
}